{
 "cells": [
  {
   "cell_type": "markdown",
   "metadata": {},
   "source": [
    "## DSGA1007 - Final Project\n",
    "## Title: A Data Science Approach to Gender Representation in Film\n",
    "\n",
    "#### Group Members: Elizabeth Combs (eac721), Lauren D'Arinzo (lhd258), Amber Teng (at2507 - responsible)\n",
    "#### http://imdbgenderrepresentation.getforge.io/\n",
    "\n",
    "“Regardless of the content, a film has the power to shape perceptions of moviegoers on a range of subjects from love and marriage to the work of the government” - cf. Franklin  2006 ; Kolker  1999 ; Ortega-Liston  2000 ; Riggle, Ellis, and Crawford  1996 \n",
    "\n",
    "#### Abstract\n",
    "The Bechdel test is a blunt, basic measure of gender equality in fictional media. From a data science perspective, we wondered if and how we could automate the process of scoring a film based on the Bechdel criteria. This project aims to complete a descriptive analysis to assess the potential of creating such a method. We review the possibility through Tableau visualization dashboards to compare the number of movies scored and the ratio of passing movies over time. We subsequently examine the use of word count as a potential proxy to quantify the words spoken by women in a film. In our conclusion, we address the modeling and ethical implications of quantifying cultural variables for feature engineering. This Notebook serves to clean the data for our project as well as complete first exploratory data visualizations. "
   ]
  },
  {
   "cell_type": "markdown",
   "metadata": {},
   "source": [
    "#### Background\n",
    "\n",
    "##### Description and Motivation: \n",
    "An integral part of data science is the communication of results; visualizations make it easier to present and discuss data, detect patterns, and identify significant points in a dataset.  As data scientists, it is important that we make these visualizations accessible and interpretable by our population of interest. \n",
    "\n",
    "In the age of technology and media, our group sought to better understand how women have, and continue to be represented in films, particularly those rated by both users and critics. For this exploration, we utilize the Bechdel Test, which is a measure of the representation of women in fiction. The test is comprised of three criteria: a movie or work of fiction has to (1) have at least two women in it, (2) who talk to each other, and (3) have a conversation that revolves around a topic other than a man. The test has historically been used as an indicator for the “active presence of women” in a work of fiction, and in the field of media studies, to shed light on gender inequality in works of fiction [1]. However, from the website documentation, the scoring regimen appears to be a largely manual process -- you have to watch the movie to do it. Consequently, we were motivated to consider ways that the Bechdel Test could be made more efficient through automation, while using compelling visualizations along the way to support our resulting conclusions.\n",
    "\n",
    "##### Data Source:\n",
    "BechdelTest.com sources API to query their list of movies that have been scored on the test criteria [2]. Their data include a unique IMDb movie ID for each film, allowing us to link the Bechdel data to public movie data from IMDb that includes further information about the title, like genre and the average rating by IMDb users. We also utilize Polygraph's Film Dialogue Dataset which contains information from movie scripts about the number of words spoken by each character, as well as the available demographic information on that character. We suspect that some of the fields, like age, make be estimates, but consider the gender feature to be largely reliable. \n",
    "\n",
    "##### [Merging Datasets](#mergingdatasets_cell)\n",
    "\n",
    "We merge data from three different sources: \n",
    "- (1) Bechdel (http://bechdeltest.com/api/v1/getAllMovies)\n",
    "- (2) Scripts (https://github.com/matthewfdaniels/scripts)\n",
    "    - character_list5.csv\n",
    "    - character_mapping.csv\n",
    "- (3) IMDb (https://www.imdb.com/interfaces/)\n",
    "    - title.akas.tsv\n",
    "    - title.basics.tsv\n",
    "    - title.ratings.tsv\n",
    "\n",
    "We export two clean files: \n",
    "- (1) df_movies_bechdel.csv\n",
    "- (2) df_movies_all.csv"
   ]
  },
  {
   "cell_type": "markdown",
   "metadata": {},
   "source": [
    "#### [Results](#results_cell)\n",
    "\n",
    "##### [First Visualization](#first_viz_cell)\n",
    "Next, we view the data to brainstorm how we can visualize the data to explore automation for Bechdel test using data science techniques.\n",
    "- How does the score of the Bechdel Test relate to IMDb User Rating?\n",
    "- How does the distribution of Bechdel passing movies change over time?\n",
    "- How much does content play a role vs. word count? For which genres is this more prevalent?\n",
    "\n",
    "##### [Tableau Data Preparation](#tableau_prep_cell)\n",
    "These visualizations are later improved in Tableau for deployment to our website, and this notebook includes the code used to build the clean data used in Tableau. You can view the clean visualizations on our wesbite and further review our exploration of the Bechdel Test and its potential automation here: http://imdbgenderrepresentation.getforge.io/.\n",
    "- *Overview Over Time* - Export data for Tableau plotting ratio of movies passing the Bechdel Test over time.\n",
    "- *Representation by Genre* - Export data by genre for Tableau plotting.\n"
   ]
  },
  {
   "cell_type": "markdown",
   "metadata": {},
   "source": [
    "#### [Discussion & Conclusion](#disc_cell)"
   ]
  },
  {
   "cell_type": "code",
   "execution_count": 1,
   "metadata": {},
   "outputs": [],
   "source": [
    "# Packages used:\n",
    "import requests\n",
    "import numpy as np\n",
    "import pandas as pd\n",
    "from pandas.io.json import json_normalize\n",
    "import matplotlib.pyplot as plt\n",
    "import seaborn as sns\n",
    "import warnings\n",
    "warnings.filterwarnings(\"ignore\") # ignores future warnings"
   ]
  },
  {
   "cell_type": "code",
   "execution_count": 2,
   "metadata": {},
   "outputs": [],
   "source": [
    "# Be sure to change this to your own file path!\n",
    "path = '~/Documents/PROGRAMMING/ProjectData/'"
   ]
  },
  {
   "cell_type": "markdown",
   "metadata": {},
   "source": [
    "<a id='mergingdatasets_cell'></a>\n",
    "### Merging Datasets:"
   ]
  },
  {
   "cell_type": "markdown",
   "metadata": {},
   "source": [
    "Import and clean the Bechdel Data:"
   ]
  },
  {
   "cell_type": "code",
   "execution_count": 3,
   "metadata": {},
   "outputs": [
    {
     "data": {
      "text/html": [
       "<div>\n",
       "<style scoped>\n",
       "    .dataframe tbody tr th:only-of-type {\n",
       "        vertical-align: middle;\n",
       "    }\n",
       "\n",
       "    .dataframe tbody tr th {\n",
       "        vertical-align: top;\n",
       "    }\n",
       "\n",
       "    .dataframe thead th {\n",
       "        text-align: right;\n",
       "    }\n",
       "</style>\n",
       "<table border=\"1\" class=\"dataframe\">\n",
       "  <thead>\n",
       "    <tr style=\"text-align: right;\">\n",
       "      <th></th>\n",
       "      <th>id</th>\n",
       "      <th>imdbid</th>\n",
       "      <th>bechdel_rating</th>\n",
       "      <th>title</th>\n",
       "      <th>year</th>\n",
       "      <th>tconst</th>\n",
       "      <th>binary_bechdel_rating</th>\n",
       "    </tr>\n",
       "  </thead>\n",
       "  <tbody>\n",
       "    <tr>\n",
       "      <th>8281</th>\n",
       "      <td>8744</td>\n",
       "      <td>8169446</td>\n",
       "      <td>3</td>\n",
       "      <td>Wine Country</td>\n",
       "      <td>2019</td>\n",
       "      <td>tt8169446</td>\n",
       "      <td>1</td>\n",
       "    </tr>\n",
       "    <tr>\n",
       "      <th>8282</th>\n",
       "      <td>8808</td>\n",
       "      <td>6806448</td>\n",
       "      <td>2</td>\n",
       "      <td>Fast &amp;amp; Furious Presents: Hobbs &amp;amp; Shaw</td>\n",
       "      <td>2019</td>\n",
       "      <td>tt6806448</td>\n",
       "      <td>0</td>\n",
       "    </tr>\n",
       "    <tr>\n",
       "      <th>8283</th>\n",
       "      <td>8645</td>\n",
       "      <td>3513498</td>\n",
       "      <td>3</td>\n",
       "      <td>Lego Movie 2: The Second Part, The</td>\n",
       "      <td>2019</td>\n",
       "      <td>tt3513498</td>\n",
       "      <td>1</td>\n",
       "    </tr>\n",
       "    <tr>\n",
       "      <th>8284</th>\n",
       "      <td>8859</td>\n",
       "      <td>8461042</td>\n",
       "      <td>3</td>\n",
       "      <td>Marijuana Conspiracy , The</td>\n",
       "      <td>2020</td>\n",
       "      <td>tt8461042</td>\n",
       "      <td>1</td>\n",
       "    </tr>\n",
       "    <tr>\n",
       "      <th>8285</th>\n",
       "      <td>8811</td>\n",
       "      <td>10781754</td>\n",
       "      <td>3</td>\n",
       "      <td>American Terrorist:  April 20, 1999</td>\n",
       "      <td>2021</td>\n",
       "      <td>tt10781754</td>\n",
       "      <td>1</td>\n",
       "    </tr>\n",
       "  </tbody>\n",
       "</table>\n",
       "</div>"
      ],
      "text/plain": [
       "        id    imdbid  bechdel_rating  \\\n",
       "8281  8744   8169446               3   \n",
       "8282  8808   6806448               2   \n",
       "8283  8645   3513498               3   \n",
       "8284  8859   8461042               3   \n",
       "8285  8811  10781754               3   \n",
       "\n",
       "                                              title  year      tconst  \\\n",
       "8281                                   Wine Country  2019   tt8169446   \n",
       "8282  Fast &amp; Furious Presents: Hobbs &amp; Shaw  2019   tt6806448   \n",
       "8283             Lego Movie 2: The Second Part, The  2019   tt3513498   \n",
       "8284                     Marijuana Conspiracy , The  2020   tt8461042   \n",
       "8285            American Terrorist:  April 20, 1999  2021  tt10781754   \n",
       "\n",
       "      binary_bechdel_rating  \n",
       "8281                      1  \n",
       "8282                      0  \n",
       "8283                      1  \n",
       "8284                      1  \n",
       "8285                      1  "
      ]
     },
     "execution_count": 3,
     "metadata": {},
     "output_type": "execute_result"
    }
   ],
   "source": [
    "# Import Bechdel data via API\n",
    "request=requests.get(\"http://bechdeltest.com/api/v1/getAllMovies\")\n",
    "json=request.json()\n",
    "bechdel=json_normalize(json)\n",
    "\n",
    "# Clean the data to the same format as IMDB data.\n",
    "bechdel['tconst'] = 'tt'+bechdel['imdbid']\n",
    "bechdel=bechdel.rename(columns={'rating': 'bechdel_rating'})\n",
    "\n",
    "# Create a Binary Variable which will be used later in the notebook.\n",
    "bechdel['binary_bechdel_rating'] = (bechdel['bechdel_rating'] >= 3).astype(int)\n",
    "bechdel.tail(5)"
   ]
  },
  {
   "cell_type": "markdown",
   "metadata": {},
   "source": [
    "Now, we would like to merge the Bechdel Data above with the data found here: https://github.com/matthewfdaniels/scripts. This data contains the characters and their word count split by gender for movies on our IMDB dataset."
   ]
  },
  {
   "cell_type": "code",
   "execution_count": 4,
   "metadata": {},
   "outputs": [
    {
     "data": {
      "text/html": [
       "<div>\n",
       "<style scoped>\n",
       "    .dataframe tbody tr th:only-of-type {\n",
       "        vertical-align: middle;\n",
       "    }\n",
       "\n",
       "    .dataframe tbody tr th {\n",
       "        vertical-align: top;\n",
       "    }\n",
       "\n",
       "    .dataframe thead th {\n",
       "        text-align: right;\n",
       "    }\n",
       "</style>\n",
       "<table border=\"1\" class=\"dataframe\">\n",
       "  <thead>\n",
       "    <tr style=\"text-align: right;\">\n",
       "      <th></th>\n",
       "      <th>script_id</th>\n",
       "      <th>tconst</th>\n",
       "      <th>imdb_character_name</th>\n",
       "      <th>words</th>\n",
       "      <th>gender</th>\n",
       "      <th>age</th>\n",
       "    </tr>\n",
       "  </thead>\n",
       "  <tbody>\n",
       "    <tr>\n",
       "      <th>0</th>\n",
       "      <td>280</td>\n",
       "      <td>tt0112579</td>\n",
       "      <td>betty</td>\n",
       "      <td>311</td>\n",
       "      <td>f</td>\n",
       "      <td>35.0</td>\n",
       "    </tr>\n",
       "    <tr>\n",
       "      <th>1</th>\n",
       "      <td>280</td>\n",
       "      <td>tt0112579</td>\n",
       "      <td>carolyn johnson</td>\n",
       "      <td>873</td>\n",
       "      <td>f</td>\n",
       "      <td>NaN</td>\n",
       "    </tr>\n",
       "    <tr>\n",
       "      <th>2</th>\n",
       "      <td>280</td>\n",
       "      <td>tt0112579</td>\n",
       "      <td>eleanor</td>\n",
       "      <td>138</td>\n",
       "      <td>f</td>\n",
       "      <td>NaN</td>\n",
       "    </tr>\n",
       "    <tr>\n",
       "      <th>3</th>\n",
       "      <td>280</td>\n",
       "      <td>tt0112579</td>\n",
       "      <td>francesca johns</td>\n",
       "      <td>2251</td>\n",
       "      <td>f</td>\n",
       "      <td>46.0</td>\n",
       "    </tr>\n",
       "    <tr>\n",
       "      <th>4</th>\n",
       "      <td>280</td>\n",
       "      <td>tt0112579</td>\n",
       "      <td>madge</td>\n",
       "      <td>190</td>\n",
       "      <td>f</td>\n",
       "      <td>46.0</td>\n",
       "    </tr>\n",
       "  </tbody>\n",
       "</table>\n",
       "</div>"
      ],
      "text/plain": [
       "   script_id     tconst imdb_character_name  words gender   age\n",
       "0        280  tt0112579               betty    311      f  35.0\n",
       "1        280  tt0112579     carolyn johnson    873      f   NaN\n",
       "2        280  tt0112579             eleanor    138      f   NaN\n",
       "3        280  tt0112579     francesca johns   2251      f  46.0\n",
       "4        280  tt0112579               madge    190      f  46.0"
      ]
     },
     "execution_count": 4,
     "metadata": {},
     "output_type": "execute_result"
    }
   ],
   "source": [
    "# Read in the data and merge into a dataframe will full information on characters.\n",
    "char_path1 = path +'character_mapping.csv'\n",
    "char_path2 = path +'character_list5.csv'\n",
    "\n",
    "char_df1 = pd.read_csv(char_path1, encoding='latin-1')\n",
    "char_df1=char_df1.drop(columns=['character_from_script',\n",
    "                                'closest_character_name_from_imdb_match',\n",
    "                                'closest_imdb_character_id'])\n",
    "\n",
    "char_df2 = pd.read_csv(char_path2, encoding='latin-1')\n",
    "\n",
    "char_df = pd.merge(char_df1, char_df2, on='script_id')\n",
    "char_df=char_df.drop_duplicates()\n",
    "char_df=char_df.rename(columns={'imdb_id':'tconst'})\n",
    "\n",
    "char_df.head()"
   ]
  },
  {
   "cell_type": "markdown",
   "metadata": {},
   "source": [
    "We also read in all the TSV files found here: https://www.imdb.com/interfaces/. This IMDB data contains different information from movies historically."
   ]
  },
  {
   "cell_type": "code",
   "execution_count": 5,
   "metadata": {},
   "outputs": [],
   "source": [
    "# Function to read in tsv files the same each time.\n",
    "\n",
    "def read_tsv(path_name):\n",
    "    return pd.read_csv(path_name, sep = '\\t',low_memory=False)"
   ]
  },
  {
   "cell_type": "code",
   "execution_count": 6,
   "metadata": {},
   "outputs": [],
   "source": [
    "# Import the title table\n",
    "path_akas = path +'title.akas.tsv'\n",
    "df_akas = read_tsv(path_akas)\n",
    "\n",
    "# Subset the US region only\n",
    "df_akas = df_akas[(df_akas['region'] == 'US')]\n",
    "df_akas=df_akas.rename(columns={'titleId':'tconst'})\n",
    "\n",
    "# Import the basics table\n",
    "path_basics = path +'title.basics.tsv'\n",
    "df_basics = read_tsv(path_basics)\n",
    "\n",
    "# Import ratings\n",
    "path_ratings = path + 'title.ratings.tsv'\n",
    "df_ratings = read_tsv(path_ratings)"
   ]
  },
  {
   "cell_type": "code",
   "execution_count": 7,
   "metadata": {},
   "outputs": [
    {
     "data": {
      "image/png": "[encoded data removed]",
      "text/plain": [
       "<Figure size 432x288 with 1 Axes>"
      ]
     },
     "metadata": {
      "needs_background": "light"
     },
     "output_type": "display_data"
    }
   ],
   "source": [
    "# Clean the df_basics dataframe\n",
    "df_basics = df_basics[df_basics['titleType'] == 'movie']\n",
    "\n",
    "df_basics=df_basics.replace('\\\\N',np.NaN)\n",
    "\n",
    "# Fill years with average of closest neighbors\n",
    "df_basics['startYear'] = df_basics['startYear'].interpolate(method='nearest').ffill().bfill()\n",
    "df_basics[df_basics['tconst']=='tt3266366']\n",
    "\n",
    "# Convert to int and check bin size visually\n",
    "df_basics['startYear']=df_basics['startYear'].astype(int)\n",
    "plt.hist(df_basics['startYear'], bins=50)\n",
    "plt.title('Number of Movies per Year')\n",
    "\n",
    "# Bin the years for later visualizations\n",
    "# Lower bound is inclusive with upperbound not inclusive, rounds down\n",
    "df_basics['year_decade_2'] = pd.cut(df_basics['startYear'], bins=len(range(min(df_basics['startYear']), max(df_basics['startYear']), 10)))\n",
    "df_basics['year_decade_1']=df_basics['year_decade_2'].apply(lambda x: x.left)\n",
    "df_basics['year_decade'] = round(df_basics['year_decade_1'].astype('int'),-1)\n",
    "df_basics=df_basics.drop(columns = ['year_decade_1','year_decade_2'])\n",
    "\n",
    "# Convert the runtime to a numeric variable.\n",
    "df_basics['runtimeMinutes'] = pd.to_numeric(df_basics['runtimeMinutes'], errors='coerce')"
   ]
  },
  {
   "cell_type": "code",
   "execution_count": 8,
   "metadata": {},
   "outputs": [],
   "source": [
    "# Pull out the genres and add the as dummy indicators.\n",
    "# Note: the dummy columns are difficult to make since they are split by commas within one column.\n",
    "\n",
    "# Extract the genres\n",
    "df_genres = df_basics['genres'].str.split(',', expand = True)\n",
    "df_genres = df_genres.values.flatten()\n",
    "df_genres = list(filter(None, df_genres)) \n",
    "df_genres = np.unique(df_genres)\n",
    "\n",
    "# Clean the words\n",
    "# Remove leading whitespace \n",
    "df_genres= [s.strip() for s in df_genres] \n",
    "df_genres = np.unique(df_genres)\n",
    "# Number of unique categories\n",
    "# print(len(df_genres))\n",
    "\n",
    "# Initiate empty columns for each genre.\n",
    "for i in df_genres:\n",
    "    df_basics[i] = 0\n",
    "    \n",
    "# Build the dummy indicators.\n",
    "for i in df_basics.iloc[:,10:len(df_basics.columns)].columns:\n",
    "    df_basics[i] = pd.np.where(df_basics['genres'].str.contains(i), 1, 0)\n",
    "    \n",
    "for col in df_basics.iloc[:,10:len(df_basics.columns)-1].columns:\n",
    "    df_basics.loc[df_basics['nan']>0, col] = 0 "
   ]
  },
  {
   "cell_type": "code",
   "execution_count": 9,
   "metadata": {},
   "outputs": [
    {
     "name": "stdout",
     "output_type": "stream",
     "text": [
      "(114144, 48)\n",
      "Index(['tconst', 'ordering', 'title', 'region', 'language', 'types',\n",
      "       'attributes', 'isOriginalTitle', 'titleType', 'primaryTitle',\n",
      "       'originalTitle', 'isAdult', 'startYear', 'endYear', 'runtimeMinutes',\n",
      "       'genres', 'year_decade', 'Action', 'Adult', 'Adventure', 'Animation',\n",
      "       'Biography', 'Comedy', 'Crime', 'Documentary', 'Drama', 'Family',\n",
      "       'Fantasy', 'Film-Noir', 'Game-Show', 'History', 'Horror', 'Music',\n",
      "       'Musical', 'Mystery', 'News', 'Reality-TV', 'Romance', 'Sci-Fi',\n",
      "       'Short', 'Sport', 'Talk-Show', 'Thriller', 'War', 'Western', 'nan',\n",
      "       'averageRating', 'numVotes'],\n",
      "      dtype='object')\n"
     ]
    }
   ],
   "source": [
    "# Merge the data from akas and basics on the unique movie id.\n",
    "\n",
    "df_movies = pd.merge(df_akas, df_basics, on = 'tconst')\n",
    "\n",
    "# merge this table with the ratings data read in earlier. \n",
    "df_movies = pd.merge(df_movies, df_ratings, on = 'tconst')\n",
    "\n",
    "#df_movies.head()\n",
    "print(df_movies.shape)\n",
    "print(df_movies.columns)\n",
    "\n",
    "# save to csv with IMDB merges complete\n",
    "df_movies.to_csv(path+'df_movies.csv')"
   ]
  },
  {
   "cell_type": "markdown",
   "metadata": {},
   "source": [
    "After merging in the IMDB data together with different tables as well as with the script data, we can merge in the Bechdel Data."
   ]
  },
  {
   "cell_type": "code",
   "execution_count": 10,
   "metadata": {},
   "outputs": [],
   "source": [
    "# merge in bechdel data & save\n",
    "# Note: we left join movies to bechdel to have only bechdel rated movies.\n",
    "df_movies_bechdel = pd.merge(df_movies, bechdel, how = 'left', on = 'tconst')\n",
    "# replace missing values\n",
    "df_movies_bechdel=df_movies_bechdel.replace('\\\\N',np.NaN)\n",
    "df_movies_bechdel.to_csv(path+'df_movies_bechdel.csv')"
   ]
  },
  {
   "cell_type": "code",
   "execution_count": 11,
   "metadata": {},
   "outputs": [],
   "source": [
    "# merge in bechdel data & save\n",
    "# Note: we outer join movies to bechdel to have all movies in IMDB and all the bechdel movies.\n",
    "df_movies_all = pd.merge(df_movies_bechdel, char_df, how = 'outer', on = 'tconst')\n",
    "df_movies_all.to_csv(path+'df_movies_all.csv')"
   ]
  },
  {
   "cell_type": "markdown",
   "metadata": {},
   "source": [
    "<a id='results_cell'></a>\n",
    "### Results:"
   ]
  },
  {
   "cell_type": "markdown",
   "metadata": {},
   "source": [
    "<a id='first_viz_cell'></a>\n",
    "#### First Visualization:\n",
    "\n",
    "Now, we will view some preliminary descriptive visualizations.\n",
    "\n",
    "Note: This concludes the data merging aspect of the project. Proceed to data visulaization examples."
   ]
  },
  {
   "cell_type": "code",
   "execution_count": 12,
   "metadata": {},
   "outputs": [],
   "source": [
    "# reload the new data\n",
    "data_path = path + 'df_movies_all.csv'\n",
    "data = pd.read_csv(data_path, encoding='latin-1', low_memory=False)"
   ]
  },
  {
   "cell_type": "code",
   "execution_count": 13,
   "metadata": {},
   "outputs": [
    {
     "data": {
      "text/plain": [
       "<matplotlib.axes._subplots.AxesSubplot at 0x1aa35005f8>"
      ]
     },
     "execution_count": 13,
     "metadata": {},
     "output_type": "execute_result"
    },
    {
     "data": {
      "image/png": "[encoded data removed]",
      "text/plain": [
       "<Figure size 432x288 with 1 Axes>"
      ]
     },
     "metadata": {
      "needs_background": "light"
     },
     "output_type": "display_data"
    }
   ],
   "source": [
    "data['averageRating'].hist()"
   ]
  },
  {
   "cell_type": "code",
   "execution_count": 14,
   "metadata": {},
   "outputs": [
    {
     "data": {
      "text/plain": [
       "<matplotlib.collections.PathCollection at 0x1aa309a978>"
      ]
     },
     "execution_count": 14,
     "metadata": {},
     "output_type": "execute_result"
    },
    {
     "data": {
      "image/png": "[encoded data removed]",
      "text/plain": [
       "<Figure size 432x288 with 1 Axes>"
      ]
     },
     "metadata": {
      "needs_background": "light"
     },
     "output_type": "display_data"
    }
   ],
   "source": [
    "# select the years to compare to remove bias\n",
    "plt.scatter('year_decade', 'averageRating', data=data) "
   ]
  },
  {
   "cell_type": "markdown",
   "metadata": {},
   "source": [
    "How does the score of the Bechdel Test relate to IMDB User Rating?"
   ]
  },
  {
   "cell_type": "code",
   "execution_count": 15,
   "metadata": {},
   "outputs": [
    {
     "data": {
      "text/plain": [
       "Text(0.5, 1.0, 'Average IMDB Rating vs. Bechdel Test Rating')"
      ]
     },
     "execution_count": 15,
     "metadata": {},
     "output_type": "execute_result"
    },
    {
     "data": {
      "image/png": "[encoded data removed]",
      "text/plain": [
       "<Figure size 432x288 with 1 Axes>"
      ]
     },
     "metadata": {
      "needs_background": "light"
     },
     "output_type": "display_data"
    }
   ],
   "source": [
    "f = sns.boxplot(x='binary_bechdel_rating', y='averageRating', notch=False, data=data[(data['averageRating'] > 4) & (data['year_decade']>=1980)]) # 2IQR outlier\n",
    "f.set_xticklabels(f.get_xticklabels(), rotation=90)\n",
    "f.set_title('Average IMDB Rating vs. Bechdel Test Rating')"
   ]
  },
  {
   "cell_type": "markdown",
   "metadata": {},
   "source": [
    "How does the distribution of Bechdel passing movies change over time?"
   ]
  },
  {
   "cell_type": "code",
   "execution_count": 16,
   "metadata": {},
   "outputs": [
    {
     "data": {
      "text/plain": [
       "Text(0, 0.5, 'Ratio Pass')"
      ]
     },
     "execution_count": 16,
     "metadata": {},
     "output_type": "execute_result"
    },
    {
     "data": {
      "image/png": "[encoded data removed]",
      "text/plain": [
       "<Figure size 432x288 with 1 Axes>"
      ]
     },
     "metadata": {
      "needs_background": "light"
     },
     "output_type": "display_data"
    }
   ],
   "source": [
    "temp = data.groupby('year_decade').sum()/data.groupby('year_decade').count()\n",
    "plt.bar(temp.index,temp['binary_bechdel_rating'], width = 8)\n",
    "plt.ylim([0, 1])\n",
    "\n",
    "plt.title('Ratio Passing Bechdel Test Rating Over Decades')\n",
    "plt.xlabel('Year')\n",
    "plt.ylabel('Ratio Pass')\n",
    "\n",
    "# look at 2020 and WWII\n",
    "# break down into more granular scores"
   ]
  },
  {
   "cell_type": "markdown",
   "metadata": {},
   "source": [
    "How much does content play a role vs. word count? For which genres is this more prevalent?"
   ]
  },
  {
   "cell_type": "code",
   "execution_count": 17,
   "metadata": {},
   "outputs": [
    {
     "data": {
      "text/plain": [
       "Text(0, 0.5, 'Movie Count')"
      ]
     },
     "execution_count": 17,
     "metadata": {},
     "output_type": "execute_result"
    },
    {
     "data": {
      "image/png": "[encoded data removed]",
      "text/plain": [
       "<Figure size 432x288 with 1 Axes>"
      ]
     },
     "metadata": {
      "needs_background": "light"
     },
     "output_type": "display_data"
    }
   ],
   "source": [
    "words_data = data[data['bechdel_rating']!= 'NaN'].groupby(['gender', 'tconst']).sum()\n",
    "total_words_data = data[data['bechdel_rating']!= 'NaN'].groupby(['tconst'])['words'].sum()\n",
    "gender_wordcount_data = data[data['bechdel_rating']!= 'NaN'].groupby(['tconst', 'gender'])['words'].sum()\n",
    "word_ratio =  gender_wordcount_data/total_words_data\n",
    "\n",
    "word_ratio.hist()\n",
    "plt.title('Movie Gender Word Ratio')\n",
    "plt.xlabel('Ratio')\n",
    "plt.ylabel('Movie Count')"
   ]
  },
  {
   "cell_type": "markdown",
   "metadata": {},
   "source": [
    "<a id='tableau_prep_cell'></a>\n",
    "#### Tableau Data Preparation:"
   ]
  },
  {
   "cell_type": "markdown",
   "metadata": {},
   "source": [
    "Now, we will clean the data for use in Tableau.\n",
    "\n",
    "Note: This concludes the preliminary coding aspect of the project. Proceed to more data preparation for visualization in Tableau."
   ]
  },
  {
   "cell_type": "markdown",
   "metadata": {},
   "source": [
    "#### Overview Over Time:"
   ]
  },
  {
   "cell_type": "code",
   "execution_count": 18,
   "metadata": {},
   "outputs": [],
   "source": [
    "# reload the new data\n",
    "# data_path = path + 'df_movies_all.csv'\n",
    "\n",
    "# data = pd.read_csv(data_path, encoding='latin-1', low_memory=False)"
   ]
  },
  {
   "cell_type": "code",
   "execution_count": 19,
   "metadata": {},
   "outputs": [
    {
     "data": {
      "text/plain": [
       "<matplotlib.axes._subplots.AxesSubplot at 0x1aa9cc02e8>"
      ]
     },
     "execution_count": 19,
     "metadata": {},
     "output_type": "execute_result"
    },
    {
     "data": {
      "image/png": "[encoded data removed]",
      "text/plain": [
       "<Figure size 432x288 with 1 Axes>"
      ]
     },
     "metadata": {
      "needs_background": "light"
     },
     "output_type": "display_data"
    }
   ],
   "source": [
    "first_graph = pd.DataFrame(data.groupby(['startYear']).binary_bechdel_rating.count())\n",
    "first_graph['total_movies_num'] = pd.DataFrame(data.groupby(['startYear']).tconst.count())\n",
    "first_graph['ratio_scored'] = first_graph.binary_bechdel_rating/first_graph.total_movies_num\n",
    "first_graph['year'] = first_graph.index\n",
    "first_graph.plot(kind='line',x='year',y='ratio_scored',color='red')\n",
    "first_graph['ratio_scored'].ewm(span = 20).mean().plot(style = 'r', title='% tested')"
   ]
  },
  {
   "cell_type": "code",
   "execution_count": 20,
   "metadata": {},
   "outputs": [
    {
     "data": {
      "text/plain": [
       "<matplotlib.axes._subplots.AxesSubplot at 0x1aa9fcfbe0>"
      ]
     },
     "execution_count": 20,
     "metadata": {},
     "output_type": "execute_result"
    },
    {
     "data": {
      "image/png": "[encoded data removed]",
      "text/plain": [
       "<Figure size 432x288 with 1 Axes>"
      ]
     },
     "metadata": {
      "needs_background": "light"
     },
     "output_type": "display_data"
    }
   ],
   "source": [
    "second_graph = pd.DataFrame(data.groupby(['binary_bechdel_rating','year']).size().reset_index(name='count'))\n",
    "\n",
    "second_graph = second_graph.pivot(index='year', columns='binary_bechdel_rating', values='count')\n",
    "second_graph['total']= second_graph.iloc[:,0] + second_graph.iloc[:,1]\n",
    "second_graph['ratio_passed'] = second_graph.iloc[:,1]/second_graph['total']\n",
    "second_graph['ratio_passed'].ewm(span = 20).mean().plot(style = 'r', title='% pass')"
   ]
  },
  {
   "cell_type": "code",
   "execution_count": 21,
   "metadata": {},
   "outputs": [
    {
     "data": {
      "text/plain": [
       "<matplotlib.axes._subplots.AxesSubplot at 0x1aa278b358>"
      ]
     },
     "execution_count": 21,
     "metadata": {},
     "output_type": "execute_result"
    },
    {
     "data": {
      "image/png": "[encoded data removed]",
      "text/plain": [
       "<Figure size 432x288 with 1 Axes>"
      ]
     },
     "metadata": {
      "needs_background": "light"
     },
     "output_type": "display_data"
    }
   ],
   "source": [
    "third_graph=pd.DataFrame(data.groupby(['gender','year']).words.sum().reset_index())\n",
    "third_graph_f = third_graph[third_graph.gender == 'f']\n",
    "third_graph_m = third_graph[third_graph.gender == 'm']\n",
    "\n",
    "third_graph=pd.merge(third_graph_f,third_graph_m, on = 'year')\n",
    "third_graph['total'] = third_graph['words_x']+ third_graph['words_y']\n",
    "third_graph['ratio_words'] = third_graph['words_x']/third_graph['total']\n",
    "third_graph['ratio_words'].ewm(span = 20).mean().plot(style = 'r', title='% words')"
   ]
  },
  {
   "cell_type": "code",
   "execution_count": 22,
   "metadata": {},
   "outputs": [
    {
     "data": {
      "text/html": [
       "<div>\n",
       "<style scoped>\n",
       "    .dataframe tbody tr th:only-of-type {\n",
       "        vertical-align: middle;\n",
       "    }\n",
       "\n",
       "    .dataframe tbody tr th {\n",
       "        vertical-align: top;\n",
       "    }\n",
       "\n",
       "    .dataframe thead th {\n",
       "        text-align: right;\n",
       "    }\n",
       "</style>\n",
       "<table border=\"1\" class=\"dataframe\">\n",
       "  <thead>\n",
       "    <tr style=\"text-align: right;\">\n",
       "      <th></th>\n",
       "      <th>year</th>\n",
       "      <th>total_movies_num</th>\n",
       "      <th>ratio_scored</th>\n",
       "      <th>ratio_passed</th>\n",
       "      <th>ratio_words</th>\n",
       "    </tr>\n",
       "  </thead>\n",
       "  <tbody>\n",
       "    <tr>\n",
       "      <th>0</th>\n",
       "      <td>1929.0</td>\n",
       "      <td>373</td>\n",
       "      <td>0.042895</td>\n",
       "      <td>0.294118</td>\n",
       "      <td>0.164722</td>\n",
       "    </tr>\n",
       "    <tr>\n",
       "      <th>1</th>\n",
       "      <td>1931.0</td>\n",
       "      <td>654</td>\n",
       "      <td>0.082569</td>\n",
       "      <td>0.327273</td>\n",
       "      <td>0.226466</td>\n",
       "    </tr>\n",
       "    <tr>\n",
       "      <th>2</th>\n",
       "      <td>1932.0</td>\n",
       "      <td>895</td>\n",
       "      <td>0.060335</td>\n",
       "      <td>0.537037</td>\n",
       "      <td>0.259279</td>\n",
       "    </tr>\n",
       "    <tr>\n",
       "      <th>3</th>\n",
       "      <td>1933.0</td>\n",
       "      <td>804</td>\n",
       "      <td>0.078358</td>\n",
       "      <td>0.333333</td>\n",
       "      <td>0.132274</td>\n",
       "    </tr>\n",
       "    <tr>\n",
       "      <th>4</th>\n",
       "      <td>1936.0</td>\n",
       "      <td>945</td>\n",
       "      <td>0.066667</td>\n",
       "      <td>0.714286</td>\n",
       "      <td>0.181347</td>\n",
       "    </tr>\n",
       "  </tbody>\n",
       "</table>\n",
       "</div>"
      ],
      "text/plain": [
       "     year  total_movies_num  ratio_scored  ratio_passed  ratio_words\n",
       "0  1929.0               373      0.042895      0.294118     0.164722\n",
       "1  1931.0               654      0.082569      0.327273     0.226466\n",
       "2  1932.0               895      0.060335      0.537037     0.259279\n",
       "3  1933.0               804      0.078358      0.333333     0.132274\n",
       "4  1936.0               945      0.066667      0.714286     0.181347"
      ]
     },
     "execution_count": 22,
     "metadata": {},
     "output_type": "execute_result"
    }
   ],
   "source": [
    "final_graph = pd.merge(first_graph, second_graph, on='year')\n",
    "final_graph = pd.merge(final_graph, third_graph, on='year')\n",
    "final_graph=final_graph[['year','total_movies_num','ratio_scored','ratio_passed','ratio_words']]\n",
    "final_graph.to_csv(path+'final_graph.csv')\n",
    "\n",
    "final_graph.head()"
   ]
  },
  {
   "cell_type": "markdown",
   "metadata": {},
   "source": [
    "#### Representation by Genre:"
   ]
  },
  {
   "cell_type": "markdown",
   "metadata": {},
   "source": [
    "It will also be interesting to review the data by Genre in Tableau.\n",
    "\n",
    "For each year and genre, we would like to compute:\n",
    "- number movies passed\n",
    "- number movies total\n",
    "- ratio passed/total"
   ]
  },
  {
   "cell_type": "code",
   "execution_count": 23,
   "metadata": {},
   "outputs": [],
   "source": [
    "a = data[(data.Action == 1) & (data.binary_bechdel_rating == 1)]\n",
    "passed = a.groupby('year').binary_bechdel_rating.sum()\n",
    "\n",
    "b=data[(data.Action == 1)]\n",
    "total = b.groupby('year').binary_bechdel_rating.count()\n",
    "\n",
    "df = pd.merge(total, passed, on='year')\n",
    "df['ratio_passed'] = df.iloc[:,1]/df.iloc[:,0]\n",
    "df['genre'] = 'Action'\n",
    "df=df.reset_index()"
   ]
  },
  {
   "cell_type": "code",
   "execution_count": 24,
   "metadata": {},
   "outputs": [],
   "source": [
    "for genre in data.iloc[:,19:46].columns: \n",
    "    a = data[(data[genre] == 1) & (data.binary_bechdel_rating == 1)]\n",
    "    passed = a.groupby('year').binary_bechdel_rating.sum()\n",
    "    \n",
    "    b=data[(data[genre] == 1)]\n",
    "    total = b.groupby('year').binary_bechdel_rating.count()\n",
    "    \n",
    "    temp = pd.merge(total, passed, on='year')\n",
    "    temp=temp.reset_index()\n",
    "    temp['ratio_passed'] = temp['binary_bechdel_rating_y']/temp['binary_bechdel_rating_x']\n",
    "    temp['genre'] = str(genre)\n",
    "    \n",
    "    df = df.append(temp)"
   ]
  },
  {
   "cell_type": "code",
   "execution_count": 25,
   "metadata": {},
   "outputs": [
    {
     "data": {
      "text/html": [
       "<div>\n",
       "<style scoped>\n",
       "    .dataframe tbody tr th:only-of-type {\n",
       "        vertical-align: middle;\n",
       "    }\n",
       "\n",
       "    .dataframe tbody tr th {\n",
       "        vertical-align: top;\n",
       "    }\n",
       "\n",
       "    .dataframe thead th {\n",
       "        text-align: right;\n",
       "    }\n",
       "</style>\n",
       "<table border=\"1\" class=\"dataframe\">\n",
       "  <thead>\n",
       "    <tr style=\"text-align: right;\">\n",
       "      <th></th>\n",
       "      <th>year</th>\n",
       "      <th>total</th>\n",
       "      <th>passed</th>\n",
       "      <th>ratio_passed</th>\n",
       "      <th>genre</th>\n",
       "    </tr>\n",
       "  </thead>\n",
       "  <tbody>\n",
       "    <tr>\n",
       "      <th>0</th>\n",
       "      <td>1918.0</td>\n",
       "      <td>1</td>\n",
       "      <td>1.0</td>\n",
       "      <td>1.000000</td>\n",
       "      <td>Action</td>\n",
       "    </tr>\n",
       "    <tr>\n",
       "      <th>1</th>\n",
       "      <td>1919.0</td>\n",
       "      <td>1</td>\n",
       "      <td>1.0</td>\n",
       "      <td>1.000000</td>\n",
       "      <td>Action</td>\n",
       "    </tr>\n",
       "    <tr>\n",
       "      <th>2</th>\n",
       "      <td>1940.0</td>\n",
       "      <td>6</td>\n",
       "      <td>3.0</td>\n",
       "      <td>0.500000</td>\n",
       "      <td>Action</td>\n",
       "    </tr>\n",
       "    <tr>\n",
       "      <th>3</th>\n",
       "      <td>1957.0</td>\n",
       "      <td>6</td>\n",
       "      <td>1.0</td>\n",
       "      <td>0.166667</td>\n",
       "      <td>Action</td>\n",
       "    </tr>\n",
       "    <tr>\n",
       "      <th>4</th>\n",
       "      <td>1960.0</td>\n",
       "      <td>2</td>\n",
       "      <td>1.0</td>\n",
       "      <td>0.500000</td>\n",
       "      <td>Action</td>\n",
       "    </tr>\n",
       "  </tbody>\n",
       "</table>\n",
       "</div>"
      ],
      "text/plain": [
       "     year  total  passed  ratio_passed   genre\n",
       "0  1918.0      1     1.0      1.000000  Action\n",
       "1  1919.0      1     1.0      1.000000  Action\n",
       "2  1940.0      6     3.0      0.500000  Action\n",
       "3  1957.0      6     1.0      0.166667  Action\n",
       "4  1960.0      2     1.0      0.500000  Action"
      ]
     },
     "execution_count": 25,
     "metadata": {},
     "output_type": "execute_result"
    }
   ],
   "source": [
    "df=df.rename(columns={'binary_bechdel_rating_x':'total', 'binary_bechdel_rating_y':'passed'})\n",
    "df.head()\n",
    "# Movies per genre\n",
    "#df.groupby('genre').total.sum().sort_values() "
   ]
  },
  {
   "cell_type": "code",
   "execution_count": 26,
   "metadata": {},
   "outputs": [],
   "source": [
    "df.to_csv(path+'genres_graph.csv')"
   ]
  },
  {
   "cell_type": "markdown",
   "metadata": {},
   "source": [
    "<a id='disc_cell'></a>\n",
    "### Discussion:"
   ]
  },
  {
   "cell_type": "markdown",
   "metadata": {},
   "source": [
    "Now, the data extracted in the final part of this code will be used to build interactive dashboards in Tableau. You can view more online on our website: http://imdbgenderrepresentation.getforge.io/.\n",
    "\n",
    "In the first dashboard, we examine the ratio of all movies that have been scored by the Bechdel test over time. Despite the upward trend, the maximum ratio is less than 40%, supporting the argument that there is a need to make the scoring process more efficient. If we are to consider the representation of women in media as reflective of perceptions of women by society, it is important that the distribution of Bechdel scores is representative of all movies.\n",
    "\n",
    "The second dashboard compares the ratio of movies that pass the test to the proportion of words belonging to female characters, aggregated across movies over time. Without exploring the data, word-count would seem like a logical proxy to capture representation for use in an algorithmic approach. However, the results of this figure suggest otherwise. Over time, the ratio of movies passing the test has a larger slope than the ratio of female words to total words; this means that the content criterion of the Bechdel Test may play a larger role than just the word count. Using word count as a proxy for feature engineering purposes may not be the wisest decision.\n",
    "\n",
    "Finally, the last dashboard shows the proportion of movies that pass the Bechdel test conditioned on the genre of the movie, over time. We are able to see clear trends in the proportion of passing movies when the feature is split on genre. Romance and Horror films have had the highest ratio of passing the Bechdel test since the 1980s; while Crime and Action films have had the lowest ratio of passing.\n",
    "\n",
    "#### Conclusions:\n",
    "\n",
    "In this descriptive exploration of data, we have begun to see how nuanced an automation methodology would need to be to accurately capture the scoring of the Bechdel test. It would be difficult to find single proxy variables for the 3 criteria of the test, and feature engineering would need to include domain knowledge. This is not to say that automation is impossible; but our takeaway is that, as Data Scientists, we are the ones who need to voice concerns about using proxies that aren’t representative, and we should include the voices of domain experts when modeling qualitative outcomes that may be subjective. \n",
    "\n",
    "Finding a way to automate the Bechdel test may be a difficult undertaking; however, it could help improve the measure of the true proportion of Bechdel passing films by scoring all movies in the IMDb and beyond. It is of note is that it is also not the only metric for quantifying representation in media, as it only considers one identity variable -- gender. Washington Post writer Alyssa Rosenberg claims \"The Bechdel Test set a very low floor for Hollywood. We can't let it become the ceiling for progress [3].\"  In the past decade, many other representation tests have been formulated, considering the distribution of people who work on the film's production, or relating other intersectional features like race, ethnicity, socioeconomic status, so that representation is inclusive to identities beyond cisgender white women. Though our analysis focuses on the Bechdel Test, our suggestions about feature engineering can help establish similar methodologies for other tests and continue to build a more equitable movie industry. "
   ]
  },
  {
   "cell_type": "markdown",
   "metadata": {},
   "source": [
    "#### References:"
   ]
  },
  {
   "cell_type": "markdown",
   "metadata": {},
   "source": [
    "[1] https://bechdeltest.com/ <br/>\n",
    "[2] https://bechdeltest.com/api/v1/doc <br/>\n",
    "[3] https://www.washingtonpost.com/opinions/2018/12/21/its-time-move-beyond-bechdel-test/ <br/>\n",
    "[4] https://projects.fivethirtyeight.com/next-bechdel/)<br/>\n"
   ]
  }
 ],
 "metadata": {
  "kernelspec": {
   "display_name": "Python 3",
   "language": "python",
   "name": "python3"
  },
  "language_info": {
   "codemirror_mode": {
    "name": "ipython",
    "version": 3
   },
   "file_extension": ".py",
   "mimetype": "text/x-python",
   "name": "python",
   "nbconvert_exporter": "python",
   "pygments_lexer": "ipython3",
   "version": "3.7.3"
  }
 },
 "nbformat": 4,
 "nbformat_minor": 2
}
